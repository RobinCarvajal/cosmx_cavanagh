{
 "cells": [
  {
   "cell_type": "markdown",
   "metadata": {},
   "source": [
    "# Getting mask coordinates"
   ]
  },
  {
   "cell_type": "markdown",
   "metadata": {},
   "source": [
    "Imports"
   ]
  },
  {
   "cell_type": "code",
   "execution_count": 1,
   "metadata": {},
   "outputs": [],
   "source": [
    "\n",
    "import cv2\n",
    "import csv\n",
    "import pandas as pd\n",
    "from pathlib import Path\n",
    "import os"
   ]
  },
  {
   "cell_type": "markdown",
   "metadata": {},
   "source": [
    "Function"
   ]
  },
  {
   "cell_type": "code",
   "execution_count": 42,
   "metadata": {},
   "outputs": [],
   "source": [
    "def get_mask_coord(mask_path, x_min, x_max, y_min, y_max, out):\n",
    "\n",
    "    # Load the black-and-white image\n",
    "    mask = cv2.imread(mask_path, cv2.IMREAD_GRAYSCALE)\n",
    "\n",
    "    # Get the original image dimensions\n",
    "    height, width = mask.shape\n",
    "\n",
    "    # Calculate scaling factors based on the target ranges\n",
    "    scale_x = (x_max - x_min) / width\n",
    "    scale_y = (y_max - y_min) / height\n",
    "\n",
    "    # Apply binary inverse thresholding to select black regions\n",
    "    _, binary = cv2.threshold(mask, 1, 255, cv2.THRESH_BINARY_INV)\n",
    "\n",
    "    # Find contours in the black regions\n",
    "    contours, _ = cv2.findContours(binary, cv2.RETR_EXTERNAL, cv2.CHAIN_APPROX_SIMPLE)\n",
    "\n",
    "    # Open a CSV file to write\n",
    "    with open(out, mode='w', newline='') as file:\n",
    "        writer = csv.writer(file)\n",
    "        \n",
    "        # Write the header row with 'x' and 'y'\n",
    "        writer.writerow(['x', 'y'])\n",
    "        \n",
    "        # Extract, scale, and write the transformed coordinates of the contours\n",
    "        for contour in contours:\n",
    "            for point in contour:\n",
    "                # Original coordinates (mask space)\n",
    "                x, y = point[0]\n",
    "                \n",
    "                # Scale the x and y coordinates to the target range\n",
    "                x_transformed = x * scale_x + x_min\n",
    "                # Correct the y-axis (invert the y-coordinate system)\n",
    "                y_transformed = y_max - (y * scale_y )\n",
    "                \n",
    "                # Write the transformed coordinates to the CSV\n",
    "                writer.writerow([f\"{x_transformed:.4f}\", f\"{y_transformed:.2f}\"])\n",
    "\n",
    "    print(f\"Coordinates have been saved to {out}\")\n",
    "\n",
    "    return None"
   ]
  },
  {
   "cell_type": "markdown",
   "metadata": {},
   "source": [
    "Code"
   ]
  },
  {
   "cell_type": "code",
   "execution_count": 57,
   "metadata": {},
   "outputs": [],
   "source": [
    "# regional path\n",
    "regional_path = \"F:/cosmx_data/regional\"\n",
    "\n",
    "# load dimentions csv\n",
    "dims_table = pd.read_csv(Path(regional_path)/\"image_dimensions.csv\")\n",
    "dims_table = dims_table.set_index(\"sample\")\n",
    "\n"
   ]
  },
  {
   "cell_type": "code",
   "execution_count": 58,
   "metadata": {},
   "outputs": [
    {
     "name": "stdout",
     "output_type": "stream",
     "text": [
      "                 x_min      x_max     y_min      y_max\n",
      "sample                                                \n",
      "s1055ant_bs1  0.111982   4.221500  6.768276  12.183444\n",
      "s1055ant_bs2  6.381753  11.335643  6.719098  12.672764\n",
      "s1055ant_bs3  0.237725   4.225399 -0.363008   5.370424\n",
      "s1055ant_bs4  5.672239   9.290289 -0.444247   5.122115\n",
      "s1055pos_bs1  0.001804   4.603873  6.876537  13.011707\n",
      "s1055pos_bs2  5.742103  11.366199  6.886876  13.180697\n",
      "s1055pos_bs3  0.463518   5.517122 -0.316841   5.188659\n",
      "s1055pos_bs4  6.642443  10.733198 -0.303108   5.796339\n",
      "s1056ant_bs1  0.201711   4.568511  5.677670  11.267486\n",
      "s1056ant_bs2  5.967613   9.773422  6.895647  12.385510\n",
      "s1056ant_bs3  0.682746   4.525722 -0.253793   4.446666\n",
      "s1056ant_bs4  6.587638  10.688978  0.741730   6.155816\n",
      "s1056pos_bs1  1.419251   5.893461  6.221256  12.222313\n",
      "s1056pos_bs2  6.670134  11.274248  5.635001  11.627157\n",
      "s1056pos_bs3  0.001564   4.292586  0.139195   5.633027\n",
      "s1056pos_bs4  5.564742  10.647093 -0.377442   5.114827\n"
     ]
    }
   ],
   "source": [
    "print(dims_table)"
   ]
  },
  {
   "cell_type": "code",
   "execution_count": null,
   "metadata": {},
   "outputs": [],
   "source": [
    "# samples list\n",
    "samples = dims_table[\"sample\"].tolist()"
   ]
  },
  {
   "cell_type": "code",
   "execution_count": 106,
   "metadata": {},
   "outputs": [
    {
     "name": "stdout",
     "output_type": "stream",
     "text": [
      "{'s1055ant_bs1': ['s1055ant_bs1-cortex.png']}\n"
     ]
    }
   ],
   "source": [
    "# mask directories dictionary\n",
    "\n",
    "mask_dirs = {}\n",
    "\n",
    "for sample in samples:\n",
    "    # List files in the directory\n",
    "    sample_masks = Path(regional_path) / \"spatial_segmentation_masks\" / sample\n",
    "    files = os.listdir(sample_masks)\n",
    "    \n",
    "    # Create a list to hold filtered files\n",
    "    filtered_files = []\n",
    "    \n",
    "    # Loop through the files and add those that don't start with \"._\"\n",
    "    for file in files:\n",
    "        if not file.startswith(\"._\"):\n",
    "            filtered_files.append(file)\n",
    "    \n",
    "    # Assign the filtered files to the dictionary\n",
    "    mask_dirs[sample] = filtered_files\n",
    "\n",
    "    break\n",
    "\n",
    "print(mask_dirs)\n"
   ]
  },
  {
   "cell_type": "code",
   "execution_count": 109,
   "metadata": {},
   "outputs": [
    {
     "name": "stdout",
     "output_type": "stream",
     "text": [
      "s1055ant_bs1-cortex.png\n",
      "F:\\cosmx_data\\regional\\spatial_segmentation_masks\\s1055ant_bs1\\s1055ant_bs1-cortex.png\n",
      "F:/cosmx_data/regional/segmentation_mask_coords/s1055ant_bs1\n",
      "s1055ant_bs1-cortex\n",
      "Coordinates have been saved to F:/cosmx_data/regional/segmentation_mask_coords/s1055ant_bs1/s1055ant_bs1-cortex_coords.csv\n"
     ]
    }
   ],
   "source": [
    "for sample, mask_list in mask_dirs.items():\n",
    "    for mask in mask_list:\n",
    "        print(mask)\n",
    "\n",
    "        mask_path = Path(regional_path) / \"spatial_segmentation_masks\" / sample/ mask\n",
    "\n",
    "        print(mask_path)\n",
    "\n",
    "        out_dir = f\"{regional_path}/segmentation_mask_coords/{sample}\"\n",
    "        os.makedirs(out_dir, exist_ok=True)\n",
    "\n",
    "        print(out_dir)\n",
    "        \n",
    "        # remove png from the mask name\n",
    "        mask_noext = os.path.splitext(mask)[0]\n",
    "        print(mask_noext)\n",
    "        \n",
    "        get_mask_coord(\n",
    "\n",
    "            mask_path=mask_path,\n",
    "            x_min=dims_table.loc[sample][\"x_min\"],\n",
    "            x_max=dims_table.loc[sample][\"x_max\"],\n",
    "            y_min=dims_table.loc[sample][\"y_min\"],\n",
    "            y_max=dims_table.loc[sample][\"y_max\"],\n",
    "            out=f\"{out_dir}/{mask_noext}_coords.csv\"\n",
    "\n",
    "        )\n",
    "\n",
    "        break"
   ]
  }
 ],
 "metadata": {
  "kernelspec": {
   "display_name": "cosmx_python",
   "language": "python",
   "name": "python3"
  },
  "language_info": {
   "codemirror_mode": {
    "name": "ipython",
    "version": 3
   },
   "file_extension": ".py",
   "mimetype": "text/x-python",
   "name": "python",
   "nbconvert_exporter": "python",
   "pygments_lexer": "ipython3",
   "version": "3.12.5"
  }
 },
 "nbformat": 4,
 "nbformat_minor": 2
}
